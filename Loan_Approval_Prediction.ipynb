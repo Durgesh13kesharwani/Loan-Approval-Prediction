{
  "nbformat": 4,
  "nbformat_minor": 0,
  "metadata": {
    "colab": {
      "provenance": []
    },
    "kernelspec": {
      "name": "python3",
      "display_name": "Python 3"
    },
    "language_info": {
      "name": "python"
    }
  },
  "cells": [
    {
      "cell_type": "code",
      "execution_count": 1,
      "metadata": {
        "id": "gFORR79oXoRn"
      },
      "outputs": [],
      "source": [
        "import pandas as pd\n",
        "import numpy as np\n",
        "from sklearn.model_selection import train_test_split, GridSearchCV\n",
        "from sklearn.preprocessing import LabelEncoder, StandardScaler\n",
        "from sklearn.impute import SimpleImputer\n",
        "from sklearn.ensemble import RandomForestClassifier, GradientBoostingClassifier\n",
        "from sklearn.metrics import accuracy_score\n",
        "from sklearn.pipeline import Pipeline\n",
        "from sklearn.compose import ColumnTransformer\n"
      ]
    },
    {
      "cell_type": "code",
      "source": [
        "# Load datasets\n",
        "train_df = pd.read_csv('/content/Training Dataset.csv')\n",
        "test_df = pd.read_csv('/content/Test Dataset.csv')\n",
        "sample_submission = pd.read_csv('/content/Sample_Submission.csv')\n"
      ],
      "metadata": {
        "id": "l4bFWOKOXsyQ"
      },
      "execution_count": 2,
      "outputs": []
    },
    {
      "cell_type": "code",
      "source": [
        "# Data Preprocessing and Feature Engineering\n",
        "\n",
        "# Separate target variable from training data\n",
        "y = train_df['Loan_Status']\n",
        "train_df.drop(['Loan_Status'], axis=1, inplace=True)\n",
        "\n",
        "# Concatenate train and test data for consistent preprocessing\n",
        "data = pd.concat([train_df, test_df], sort=False)\n",
        "\n",
        "# Handle missing values\n",
        "numerical_features = data.select_dtypes(include=[np.number]).columns\n",
        "categorical_features = data.select_dtypes(include=[object]).columns\n",
        "\n",
        "num_imputer = SimpleImputer(strategy='mean')\n",
        "cat_imputer = SimpleImputer(strategy='most_frequent')\n",
        "\n",
        "data[numerical_features] = num_imputer.fit_transform(data[numerical_features])\n",
        "data[categorical_features] = cat_imputer.fit_transform(data[categorical_features])\n",
        "\n",
        "# Encode categorical features\n",
        "label_encoders = {}\n",
        "for col in categorical_features:\n",
        "    le = LabelEncoder()\n",
        "    data[col] = le.fit_transform(data[col])\n",
        "    label_encoders[col] = le\n",
        "\n",
        "# Feature scaling\n",
        "scaler = StandardScaler()\n",
        "data[numerical_features] = scaler.fit_transform(data[numerical_features])"
      ],
      "metadata": {
        "id": "hEiKFXPmafUd"
      },
      "execution_count": 3,
      "outputs": []
    },
    {
      "cell_type": "code",
      "source": [
        "# Split back into train and test sets\n",
        "train_df = data.iloc[:len(y), :]\n",
        "test_df = data.iloc[len(y):, :]\n",
        "\n",
        "# Split the training data into train and validation sets\n",
        "X_train, X_valid, y_train, y_valid = train_test_split(train_df, y, test_size=0.2, random_state=42)"
      ],
      "metadata": {
        "id": "auDI2gp-av5n"
      },
      "execution_count": 4,
      "outputs": []
    },
    {
      "cell_type": "code",
      "source": [
        "# Define the model and hyperparameter grid for tuning\n",
        "model = GradientBoostingClassifier(random_state=42)\n",
        "param_grid = {\n",
        "    'n_estimators': [100, 200, 300],\n",
        "    'learning_rate': [0.01, 0.1, 0.2],\n",
        "    'max_depth': [3, 4, 5]\n",
        "}\n",
        "\n",
        "# Hyperparameter tuning with GridSearchCV\n",
        "grid_search = GridSearchCV(estimator=model, param_grid=param_grid, cv=5, scoring='accuracy', n_jobs=-1)\n",
        "grid_search.fit(X_train, y_train)\n",
        "\n",
        "# Best model from grid search\n",
        "best_model = grid_search.best_estimator_"
      ],
      "metadata": {
        "id": "B4JCaY_dbBLO"
      },
      "execution_count": 6,
      "outputs": []
    },
    {
      "cell_type": "code",
      "source": [
        "# Model evaluation\n",
        "y_pred = best_model.predict(X_valid)\n",
        "accuracy = accuracy_score(y_valid, y_pred)\n",
        "error_percentage = (1 - accuracy) * 100\n",
        "\n",
        "print(f'Validation Accuracy: {accuracy * 100:.2f}%')\n",
        "print(f'Validation Error Percentage: {error_percentage:.2f}%')\n",
        "\n",
        "# Train on the full training set and predict on the test set\n",
        "best_model.fit(train_df, y)\n",
        "test_predictions = best_model.predict(test_df)\n",
        "\n",
        "# Create submission file\n",
        "submission = sample_submission.copy()\n",
        "submission['Loan_Status'] = test_predictions\n",
        "submission.to_csv('submission.csv', index=False)"
      ],
      "metadata": {
        "colab": {
          "base_uri": "https://localhost:8080/"
        },
        "id": "n0aPtkR9bfFE",
        "outputId": "b644dfd2-5682-4cf4-8177-ead35cc60689"
      },
      "execution_count": 7,
      "outputs": [
        {
          "output_type": "stream",
          "name": "stdout",
          "text": [
            "Validation Accuracy: 78.86%\n",
            "Validation Error Percentage: 21.14%\n"
          ]
        }
      ]
    }
  ]
}